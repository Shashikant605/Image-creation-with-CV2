{
 "cells": [
  {
   "cell_type": "code",
   "execution_count": 16,
   "id": "ea1e9f7e",
   "metadata": {},
   "outputs": [],
   "source": [
    "import cv2"
   ]
  },
  {
   "cell_type": "code",
   "execution_count": 17,
   "id": "9e6b712f",
   "metadata": {},
   "outputs": [],
   "source": [
    "actress1 = cv2.imread(\"actress1.jpg\")"
   ]
  },
  {
   "cell_type": "code",
   "execution_count": 18,
   "id": "2282aac5",
   "metadata": {},
   "outputs": [],
   "source": [
    "actress3 =cv2.imread(\"actress3.jpg\")"
   ]
  },
  {
   "cell_type": "code",
   "execution_count": 19,
   "id": "79ccd1e3",
   "metadata": {},
   "outputs": [
    {
     "data": {
      "text/plain": [
       "(400, 600, 3)"
      ]
     },
     "execution_count": 19,
     "metadata": {},
     "output_type": "execute_result"
    }
   ],
   "source": [
    "actress1.shape"
   ]
  },
  {
   "cell_type": "code",
   "execution_count": 20,
   "id": "6030a155",
   "metadata": {},
   "outputs": [
    {
     "data": {
      "text/plain": [
       "(400, 600, 3)"
      ]
     },
     "execution_count": 20,
     "metadata": {},
     "output_type": "execute_result"
    }
   ],
   "source": [
    "actress3.shape"
   ]
  },
  {
   "cell_type": "code",
   "execution_count": 21,
   "id": "a1432f54",
   "metadata": {},
   "outputs": [],
   "source": [
    "cv2.imshow(\"nora2\" , actress1)\n",
    "cv2.imshow(\"crush3\", actress3)\n",
    "cv2.waitKey()\n",
    "cv2.destroyAllWindows()"
   ]
  },
  {
   "cell_type": "code",
   "execution_count": 22,
   "id": "2b803939",
   "metadata": {},
   "outputs": [],
   "source": [
    "crop_actress3 =actress3[0:200, 200:450]\n",
    "actress1[0:200, 250:500]=crop_actress3\n",
    "\n",
    "cv2.imshow(\"swaping\",actress1)\n",
    "cv2.waitKey()\n",
    "cv2.destroyAllWindows()"
   ]
  },
  {
   "cell_type": "code",
   "execution_count": null,
   "id": "a742c33f",
   "metadata": {},
   "outputs": [],
   "source": []
  }
 ],
 "metadata": {
  "kernelspec": {
   "display_name": "Python 3",
   "language": "python",
   "name": "python3"
  },
  "language_info": {
   "codemirror_mode": {
    "name": "ipython",
    "version": 3
   },
   "file_extension": ".py",
   "mimetype": "text/x-python",
   "name": "python",
   "nbconvert_exporter": "python",
   "pygments_lexer": "ipython3",
   "version": "3.8.8"
  }
 },
 "nbformat": 4,
 "nbformat_minor": 5
}

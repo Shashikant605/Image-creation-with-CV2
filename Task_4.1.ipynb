{
 "cells": [
  {
   "cell_type": "code",
   "execution_count": 9,
   "id": "732e0344",
   "metadata": {},
   "outputs": [],
   "source": [
    "import numpy as np"
   ]
  },
  {
   "cell_type": "code",
   "execution_count": 10,
   "id": "974767db",
   "metadata": {},
   "outputs": [],
   "source": [
    "import cv2"
   ]
  },
  {
   "cell_type": "code",
   "execution_count": 11,
   "id": "039796e9",
   "metadata": {},
   "outputs": [],
   "source": [
    "# Creating an image of Monitor:\n",
    "\n",
    "Monitor = np.zeros((550,550,3))\n",
    "Monitor[45:200, 150:400]=[255,255,255]\n",
    "Monitor[200:280, 260:290]=[255,255,255]\n",
    "Monitor[280:290, 50:500]=[255,255,255]\n",
    "Monitor[280:550, 100:110]=[255,255,255]\n",
    "Monitor[280:550, 430:440]=[255,255,255]\n"
   ]
  },
  {
   "cell_type": "code",
   "execution_count": 12,
   "id": "501b482f",
   "metadata": {},
   "outputs": [],
   "source": [
    "cv2.imshow(\"my_computer\" , Monitor)\n",
    "cv2.waitKey()\n",
    "cv2.destroyAllWindows()"
   ]
  },
  {
   "cell_type": "code",
   "execution_count": 13,
   "id": "0f4db99a",
   "metadata": {},
   "outputs": [],
   "source": [
    "# Creating an image of ladder or you can also call zebra crossing, railway track\n",
    "\n",
    "ladder = np.zeros((500,500,3))\n",
    "\n",
    "ladder[15:470, 150:160]=[255,255,255]\n",
    "ladder[15:470, 320:330]=[255,255,255]\n",
    "ladder[50:70, 150:330]=[255,255,255]\n",
    "ladder[120:140,150:330]=[255,255,255]\n",
    "ladder[190:210, 150:330]=[255,255,255]\n",
    "ladder[260:280, 150:330]=[255,255,255]\n",
    "ladder[330:350, 150:330]=[255,255,255]\n",
    "ladder[400:420, 150:330]=[255,255,255]\n",
    "\n"
   ]
  },
  {
   "cell_type": "code",
   "execution_count": 14,
   "id": "fbb510d2",
   "metadata": {},
   "outputs": [],
   "source": [
    "cv2.imshow(\"ladder\" , ladder)\n",
    "cv2.waitKey()\n",
    "cv2.destroyAllWindows()"
   ]
  },
  {
   "cell_type": "code",
   "execution_count": 15,
   "id": "81fcfdee",
   "metadata": {},
   "outputs": [],
   "source": [
    "# Creating a Robot :\n",
    "\n",
    "robot =np.zeros((600,600,3))\n",
    "\n",
    "robot[30:100, 250:350] =[255,255,255]\n",
    "robot[100:130, 290:310] =[255,255,255]\n",
    "robot[130:300, 200:410] =[255,255,255]\n",
    "robot[300:450, 250:275] =[255,255,255]\n",
    "robot[300:450, 330:355] =[255,255,255]\n",
    "robot[450:480, 220:275] =[255,255,255]\n",
    "robot[450:480, 330:385] =[255,255,255]\n",
    "robot[200:210, 100:200] =[255,255,255]\n",
    "robot[200:210, 410:510] =[255,255,255]\n",
    "robot[150:200, 100:110] =[255,255,255]\n",
    "robot[210:260, 500:510] =[255,255,255]\n",
    "\n",
    "\n"
   ]
  },
  {
   "cell_type": "code",
   "execution_count": 16,
   "id": "0408c50e",
   "metadata": {},
   "outputs": [],
   "source": [
    "cv2.imshow(\"robot\" , robot)\n",
    "cv2.waitKey()\n",
    "cv2.destroyAllWindows()"
   ]
  },
  {
   "cell_type": "code",
   "execution_count": null,
   "id": "49b9d928",
   "metadata": {},
   "outputs": [],
   "source": []
  }
 ],
 "metadata": {
  "kernelspec": {
   "display_name": "Python 3",
   "language": "python",
   "name": "python3"
  },
  "language_info": {
   "codemirror_mode": {
    "name": "ipython",
    "version": 3
   },
   "file_extension": ".py",
   "mimetype": "text/x-python",
   "name": "python",
   "nbconvert_exporter": "python",
   "pygments_lexer": "ipython3",
   "version": "3.8.8"
  }
 },
 "nbformat": 4,
 "nbformat_minor": 5
}

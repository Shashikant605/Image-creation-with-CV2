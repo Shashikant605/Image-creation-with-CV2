{
 "cells": [
  {
   "cell_type": "code",
   "execution_count": 10,
   "id": "2f82e32f",
   "metadata": {},
   "outputs": [],
   "source": [
    "import cv2"
   ]
  },
  {
   "cell_type": "code",
   "execution_count": 11,
   "id": "19f7c3fc",
   "metadata": {},
   "outputs": [],
   "source": [
    "crush1 =cv2.imread(\"crush1.jpg\") # tj means tom and jerry shortcut "
   ]
  },
  {
   "cell_type": "code",
   "execution_count": 12,
   "id": "47686c5b",
   "metadata": {},
   "outputs": [],
   "source": [
    "crush2 =cv2.imread(\"crush2.jpg\")"
   ]
  },
  {
   "cell_type": "code",
   "execution_count": 13,
   "id": "192c39a6",
   "metadata": {},
   "outputs": [
    {
     "data": {
      "text/plain": [
       "(263, 350, 3)"
      ]
     },
     "execution_count": 13,
     "metadata": {},
     "output_type": "execute_result"
    }
   ],
   "source": [
    "crush1.shape"
   ]
  },
  {
   "cell_type": "code",
   "execution_count": 14,
   "id": "fb924346",
   "metadata": {},
   "outputs": [
    {
     "data": {
      "text/plain": [
       "(263, 350, 3)"
      ]
     },
     "execution_count": 14,
     "metadata": {},
     "output_type": "execute_result"
    }
   ],
   "source": [
    "crush2.shape"
   ]
  },
  {
   "cell_type": "code",
   "execution_count": 15,
   "id": "2dcaa3b1",
   "metadata": {},
   "outputs": [],
   "source": [
    "import numpy as np\n",
    "crush1_crush2_H = np.hstack((crush1,crush2))   #hstack will combine the image horizontallay1"
   ]
  },
  {
   "cell_type": "code",
   "execution_count": 16,
   "id": "b3d397f1",
   "metadata": {},
   "outputs": [],
   "source": [
    "cv2.imshow(\"crush1\" , crush1_crush2_H )\n",
    "cv2.waitKey()\n",
    "cv2.destroyAllWindows()"
   ]
  },
  {
   "cell_type": "code",
   "execution_count": 17,
   "id": "c7ef0013",
   "metadata": {},
   "outputs": [],
   "source": [
    "crush1_crush2_V = np.vstack((crush1,crush2))    #vstack will combine vertically"
   ]
  },
  {
   "cell_type": "code",
   "execution_count": 18,
   "id": "c99587b1",
   "metadata": {},
   "outputs": [],
   "source": [
    "cv2.imshow(\"crush2\" ,crush1_crush2_V )\n",
    "cv2.waitKey()\n",
    "cv2.destroyAllWindows()"
   ]
  },
  {
   "cell_type": "code",
   "execution_count": null,
   "id": "24658e51",
   "metadata": {},
   "outputs": [],
   "source": []
  }
 ],
 "metadata": {
  "kernelspec": {
   "display_name": "Python 3",
   "language": "python",
   "name": "python3"
  },
  "language_info": {
   "codemirror_mode": {
    "name": "ipython",
    "version": 3
   },
   "file_extension": ".py",
   "mimetype": "text/x-python",
   "name": "python",
   "nbconvert_exporter": "python",
   "pygments_lexer": "ipython3",
   "version": "3.8.8"
  }
 },
 "nbformat": 4,
 "nbformat_minor": 5
}
